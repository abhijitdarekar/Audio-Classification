{
 "cells": [
  {
   "cell_type": "markdown",
   "id": "af8e7323-ed13-43b0-82a6-0b46a42ada17",
   "metadata": {},
   "source": [
    "# Audio Classification "
   ]
  },
  {
   "cell_type": "markdown",
   "id": "e0ed7f18-30b8-47c7-a7bb-63907b5fce13",
   "metadata": {},
   "source": [
    "This is Audio Recogination Problem. The Challange is to build a Machine Learning code to count the number of Capuchinbird calls within a gien clip."
   ]
  },
  {
   "cell_type": "markdown",
   "id": "75777acf-0ad2-4ad5-a63d-f10816c5c320",
   "metadata": {},
   "source": [
    "The Data is collected from the Kaggle Dataset ,https://www.kaggle.com/datasets/kenjee/z-by-hp-unlocked-challenge-3-signal-processing."
   ]
  },
  {
   "cell_type": "markdown",
   "id": "fbd6960c-6384-4440-a6bd-28c99e44edfb",
   "metadata": {},
   "source": [
    "### Understanding the Data\n",
    "\n",
    "We have Three folders(Three types of Data).\n",
    "1. Forest Clips : Foreclip we need to parse and count the number of calls\n",
    "2. Parsed_Capuchinbird_clips : Calls related to specific capuchin bird.\n",
    "3. Parsed Not Capuchin Bird : Set of files which are not Capuchin Bird Calls."
   ]
  },
  {
   "cell_type": "markdown",
   "id": "f86f8b97-7a45-475e-8f11-9554dee6c797",
   "metadata": {},
   "source": [
    "## Installing Dependencies"
   ]
  },
  {
   "cell_type": "code",
   "execution_count": 1,
   "id": "db604849-76bd-4f50-8ade-837b8df8f7a8",
   "metadata": {},
   "outputs": [],
   "source": [
    "# !pip install tensorflow tensorflow-gpu tensorflow-io matplotlib"
   ]
  },
  {
   "cell_type": "markdown",
   "id": "459031d1-f1b8-46fe-8ded-c9d48faa9f39",
   "metadata": {},
   "source": [
    "## Loading Dependencies"
   ]
  },
  {
   "cell_type": "code",
   "execution_count": 174,
   "id": "1fff54e9-447d-4085-bd73-03357c0d01a9",
   "metadata": {},
   "outputs": [
    {
     "data": {
      "text/plain": [
       "43234"
      ]
     },
     "execution_count": 174,
     "metadata": {},
     "output_type": "execute_result"
    }
   ],
   "source": [
    "import os \n",
    "import matplotlib.pyplot as plt\n",
    "import tensorflow as tf\n",
    "import tensorflow_io as tfio\n",
    "\n",
    "from tensorflow.keras.models import Sequential\n",
    "from tensorflow.keras.layers import Conv2D, Dense, Flatten\n",
    "\n",
    "import pandas as pd\n",
    "\n",
    "import warnings\n",
    "warnings.filterwarnings(\"ignore\")\n",
    "\n",
    "import gc\n",
    "gc.collect()"
   ]
  },
  {
   "cell_type": "markdown",
   "id": "78eab7f6-a986-4bd8-99b4-c49ab7186e31",
   "metadata": {},
   "source": [
    "## Config"
   ]
  },
  {
   "cell_type": "code",
   "execution_count": 54,
   "id": "c432c553-e534-4267-bd50-09f270468734",
   "metadata": {},
   "outputs": [
    {
     "data": {
      "text/plain": [
       "36785"
      ]
     },
     "execution_count": 54,
     "metadata": {},
     "output_type": "execute_result"
    }
   ],
   "source": [
    "class CFG:\n",
    "    CAP_DATA = os.path.join(\"..\",\"data\",'Parsed_Capuchinbird_Clips')\n",
    "    NON_CAP_DATA = os.path.join(\"..\",'data','Parsed_Not_Capuchinbird_Clips')\n",
    "    FOREST_DATA = os.path.join(\"..\",\"data\",'Forest Recordings')\n",
    "    TARGET_SR = 16000\n",
    "\n",
    "    BATCH_SIZE = 16\n",
    "    TRAIN_SIZE = 0.7\n",
    "config = CFG()\n",
    "gc.collect()"
   ]
  },
  {
   "cell_type": "markdown",
   "id": "5ab940ed-5ec5-409c-912e-73f97b4cf983",
   "metadata": {},
   "source": [
    "## Loading data"
   ]
  },
  {
   "cell_type": "code",
   "execution_count": 4,
   "id": "3b9825c5-6085-419f-961d-21a4e3b16a92",
   "metadata": {},
   "outputs": [],
   "source": [
    "CAP_file = os.path.join(CFG.CAP_DATA,\"XC114131-0.wav\")\n",
    "NOT_cap_file = os.path.join(CFG.NON_CAP_DATA,\"afternoon-birds-song-in-forest-15.wav\")"
   ]
  },
  {
   "cell_type": "code",
   "execution_count": 5,
   "id": "d14954a5-555a-4e64-a3be-5ac7edcb6051",
   "metadata": {},
   "outputs": [
    {
     "data": {
      "text/plain": [
       "('../data/Parsed_Capuchinbird_Clips/XC114131-0.wav',\n",
       " '../data/Parsed_Not_Capuchinbird_Clips/afternoon-birds-song-in-forest-15.wav')"
      ]
     },
     "execution_count": 5,
     "metadata": {},
     "output_type": "execute_result"
    }
   ],
   "source": [
    "CAP_file,NOT_cap_file"
   ]
  },
  {
   "cell_type": "markdown",
   "id": "80e9e09c-cf68-4f26-851b-3248f26870f2",
   "metadata": {},
   "source": [
    "### Data Loading Function\n",
    "\n",
    "The dunctions loads the file, then decodes the wav , remove the trailing axis.\n",
    "\n",
    "It then converts the source sample rate to 16khz."
   ]
  },
  {
   "cell_type": "code",
   "execution_count": 6,
   "id": "46d03930-675d-4a76-9d88-f10392228b3c",
   "metadata": {},
   "outputs": [],
   "source": [
    "def  load_wav_file(filename,sr = CFG.TARGET_SR):\n",
    "    file_contents = tf.io.read_file(filename)\n",
    "    wav, sample_rate = tf.audio.decode_wav(file_contents,desired_channels=1)\n",
    "    wav = tf.squeeze(wav, axis=1)\n",
    "    sample_rate = tf.cast(sample_rate,dtype=tf.int64)\n",
    "\n",
    "    wav = tfio.audio.resample(wav, rate_in=sample_rate, rate_out=sr)\n",
    "    return wav"
   ]
  },
  {
   "cell_type": "code",
   "execution_count": 7,
   "id": "8e011225-4803-424a-837c-c4b88334fbf3",
   "metadata": {},
   "outputs": [
    {
     "name": "stderr",
     "output_type": "stream",
     "text": [
      "2024-04-09 18:41:44.241315: I tensorflow/compiler/xla/stream_executor/cuda/cuda_gpu_executor.cc:981] could not open file to read NUMA node: /sys/bus/pci/devices/0000:01:00.0/numa_node\n",
      "Your kernel may have been built without NUMA support.\n",
      "2024-04-09 18:41:44.269015: W tensorflow/core/common_runtime/gpu/gpu_device.cc:1960] Cannot dlopen some GPU libraries. Please make sure the missing libraries mentioned above are installed properly if you would like to use GPU. Follow the guide at https://www.tensorflow.org/install/gpu for how to download and setup the required libraries for your platform.\n",
      "Skipping registering GPU devices...\n",
      "2024-04-09 18:41:44.344905: I tensorflow_io/core/kernels/cpu_check.cc:128] Your CPU supports instructions that this TensorFlow IO binary was not compiled to use: AVX AVX2 FMA\n",
      "2024-04-09 18:41:44.346991: W tensorflow_io/core/kernels/audio_video_mp3_kernels.cc:271] libmp3lame.so.0 or lame functions are not available\n"
     ]
    },
    {
     "data": {
      "text/plain": [
       "0"
      ]
     },
     "execution_count": 7,
     "metadata": {},
     "output_type": "execute_result"
    }
   ],
   "source": [
    "cap_file = load_wav_file(CAP_file)\n",
    "non_cap_file = load_wav_file(NOT_cap_file)\n",
    "gc.collect()"
   ]
  },
  {
   "cell_type": "markdown",
   "id": "589feaa7-7d53-45a7-b204-6b84ba5ca0da",
   "metadata": {},
   "source": [
    "## Plotting Audio Files"
   ]
  },
  {
   "cell_type": "code",
   "execution_count": 8,
   "id": "fdf64f20-a70e-4825-a917-a30cc0e1adda",
   "metadata": {},
   "outputs": [
    {
     "data": {
      "image/png": "[encoded data removed]",
      "text/plain": [
       "<Figure size 432x288 with 1 Axes>"
      ]
     },
     "metadata": {
      "needs_background": "light"
     },
     "output_type": "display_data"
    }
   ],
   "source": [
    "plt.plot(cap_file)\n",
    "plt.plot(non_cap_file)\n",
    "plt.show()"
   ]
  },
  {
   "cell_type": "markdown",
   "id": "b1540eb7-c01a-4132-9922-bdb24e1d76c4",
   "metadata": {},
   "source": [
    "## Creating Tensorflow Datasets"
   ]
  },
  {
   "cell_type": "code",
   "execution_count": 9,
   "id": "481e4231-7e56-4178-9f31-b7f729ddee8a",
   "metadata": {},
   "outputs": [],
   "source": [
    "cap_dataset = tf.data.Dataset.list_files(config.CAP_DATA+'/*.wav')\n",
    "non_cap_dataset = tf.data.Dataset.list_files(config.NON_CAP_DATA+'/*.wav')"
   ]
  },
  {
   "cell_type": "code",
   "execution_count": 10,
   "id": "6c8d5150-88ea-4bcd-9b9f-6a3bcf35ed82",
   "metadata": {},
   "outputs": [
    {
     "data": {
      "text/plain": [
       "3089"
      ]
     },
     "execution_count": 10,
     "metadata": {},
     "output_type": "execute_result"
    }
   ],
   "source": [
    "# Combining the labels.\n",
    "cap_dataset_1 = tf.data.Dataset.zip((cap_dataset,tf.data.Dataset.from_tensor_slices(tf.ones(len(cap_dataset)))))\n",
    "non_cap_dataset_1 = tf.data.Dataset.zip((non_cap_dataset,tf.data.Dataset.from_tensor_slices(tf.zeros(len(non_cap_dataset)))))\n",
    "dataset = cap_dataset_1.concatenate(non_cap_dataset_1)\n",
    "\n",
    "gc.collect()"
   ]
  },
  {
   "cell_type": "code",
   "execution_count": 11,
   "id": "6b5de075-a977-4e23-806d-12c30721dd56",
   "metadata": {},
   "outputs": [],
   "source": [
    "dataset = dataset.shuffle(10012,seed = 42)"
   ]
  },
  {
   "cell_type": "markdown",
   "id": "f027073a-dcc2-4fc3-a910-db3bda51eea5",
   "metadata": {
    "jp-MarkdownHeadingCollapsed": true
   },
   "source": [
    "### Determine the average length of audio calls."
   ]
  },
  {
   "cell_type": "code",
   "execution_count": 12,
   "id": "a32e0301-607e-4083-be04-3f329b283a8e",
   "metadata": {},
   "outputs": [
    {
     "name": "stdout",
     "output_type": "stream",
     "text": [
      "WARNING:tensorflow:5 out of the last 5 calls to <function pfor.<locals>.f at 0x7f74005a7d90> triggered tf.function retracing. Tracing is expensive and the excessive number of tracings could be due to (1) creating @tf.function repeatedly in a loop, (2) passing tensors with different shapes, (3) passing Python objects instead of tensors. For (1), please define your @tf.function outside of the loop. For (2), @tf.function has reduce_retracing=True option that can avoid unnecessary retracing. For (3), please refer to https://www.tensorflow.org/guide/function#controlling_retracing and https://www.tensorflow.org/api_docs/python/tf/function for  more details.\n",
      "WARNING:tensorflow:6 out of the last 6 calls to <function pfor.<locals>.f at 0x7f74005a7e20> triggered tf.function retracing. Tracing is expensive and the excessive number of tracings could be due to (1) creating @tf.function repeatedly in a loop, (2) passing tensors with different shapes, (3) passing Python objects instead of tensors. For (1), please define your @tf.function outside of the loop. For (2), @tf.function has reduce_retracing=True option that can avoid unnecessary retracing. For (3), please refer to https://www.tensorflow.org/guide/function#controlling_retracing and https://www.tensorflow.org/api_docs/python/tf/function for  more details.\n"
     ]
    }
   ],
   "source": [
    "# Calculating the Wavelength\n",
    "\n",
    "lengths = []\n",
    "for file in os.listdir(config.CAP_DATA):\n",
    "    tensor_wave = load_wav_file(os.path.join(config.CAP_DATA,file))\n",
    "    lengths.append(len(tensor_wave))"
   ]
  },
  {
   "cell_type": "code",
   "execution_count": 13,
   "id": "db9ff1cc-fea3-40d6-9099-8d652502ffa1",
   "metadata": {},
   "outputs": [],
   "source": [
    "cap_min_length = min(lengths)\n",
    "cap_max_length = max(lengths)\n",
    "cap_avg_length = sum(lengths)/len(lengths)"
   ]
  },
  {
   "cell_type": "code",
   "execution_count": 14,
   "id": "df6017e3-7a97-4baa-a0a6-67c69d5af89f",
   "metadata": {},
   "outputs": [
    {
     "name": "stdout",
     "output_type": "stream",
     "text": [
      "maximum length is 80000 while minimum is 32000 with average is 54156.66359447005.\n",
      "So the longest audio is of 5.0. \n",
      "Smallest song of length 2.0\n"
     ]
    }
   ],
   "source": [
    "print(f\"maximum length is {cap_max_length} while minimum is {cap_min_length} with average is {cap_avg_length}.\\nSo the longest audio is of {cap_max_length/config.TARGET_SR}. \\nSmallest song of length {cap_min_length/config.TARGET_SR}\")"
   ]
  },
  {
   "cell_type": "markdown",
   "id": "07a4ae63-5d3e-4208-85a0-da0ed49bb5f1",
   "metadata": {},
   "source": [
    "## Building a Preprocessing and converting it into spectogram."
   ]
  },
  {
   "cell_type": "code",
   "execution_count": 15,
   "id": "5416158e-786a-4090-98c4-402cef5e78cc",
   "metadata": {},
   "outputs": [
    {
     "data": {
      "text/plain": [
       "0"
      ]
     },
     "execution_count": 15,
     "metadata": {},
     "output_type": "execute_result"
    }
   ],
   "source": [
    "def preprocess(file_path, label):\n",
    "    wav = load_wav_file(file_path)\n",
    "    wav = wav[:48000]\n",
    "    zero_paddings = tf.zeros([48000]- tf.shape(wav),dtype=tf.float32)\n",
    "    wav = tf.concat([zero_paddings,wav],0)\n",
    "\n",
    "    # Spectogram\n",
    "   \n",
    "    spectogram = tf.signal.stft(wav, frame_length=320, frame_step=32)\n",
    "    spectogram = tf.abs(spectogram)\n",
    "    spectogram = tf.expand_dims(spectogram, axis =2)\n",
    "    return spectogram,label\n",
    "\n",
    "gc.collect()"
   ]
  },
  {
   "cell_type": "code",
   "execution_count": 16,
   "id": "01bbd027-676e-459e-b8c2-6ec20dd403a8",
   "metadata": {},
   "outputs": [
    {
     "data": {
      "text/plain": [
       "0"
      ]
     },
     "execution_count": 16,
     "metadata": {},
     "output_type": "execute_result"
    }
   ],
   "source": [
    "samp_file_path , sample_label = cap_dataset_1.as_numpy_iterator().next()\n",
    "samp_spectogram,_ = preprocess(samp_file_path,sample_label)\n",
    "gc.collect()"
   ]
  },
  {
   "cell_type": "markdown",
   "id": "7fa85ff5-6e92-410e-a297-38ee7fa3b84b",
   "metadata": {},
   "source": [
    "### Plotting sample Spectogram"
   ]
  },
  {
   "cell_type": "code",
   "execution_count": 17,
   "id": "c49d5846-4f3e-4119-b784-450b61a22601",
   "metadata": {},
   "outputs": [
    {
     "data": {
      "image/png": "[encoded data removed]",
      "text/plain": [
       "<Figure size 1008x360 with 1 Axes>"
      ]
     },
     "metadata": {
      "needs_background": "light"
     },
     "output_type": "display_data"
    }
   ],
   "source": [
    "plt.figure(figsize=(14,5))\n",
    "plt.title(\"Plotting Spectogram for Capuchin Bird Call\")\n",
    "plt.imshow(tf.transpose(samp_spectogram)[0])\n",
    "plt.show()"
   ]
  },
  {
   "cell_type": "code",
   "execution_count": 18,
   "id": "513a15b6-6003-4947-a731-7e3f819771dd",
   "metadata": {},
   "outputs": [],
   "source": [
    "samp_file_path , sample_label = non_cap_dataset_1.as_numpy_iterator().next()\n",
    "samp_spectogram,_ = preprocess(samp_file_path,sample_label)"
   ]
  },
  {
   "cell_type": "code",
   "execution_count": 19,
   "id": "268cd91a-adf7-4ab8-ad19-0e133eeca41b",
   "metadata": {},
   "outputs": [
    {
     "data": {
      "image/png": "[encoded data removed]",
      "text/plain": [
       "<Figure size 1008x360 with 1 Axes>"
      ]
     },
     "metadata": {
      "needs_background": "light"
     },
     "output_type": "display_data"
    },
    {
     "data": {
      "text/plain": [
       "6206"
      ]
     },
     "execution_count": 19,
     "metadata": {},
     "output_type": "execute_result"
    }
   ],
   "source": [
    "plt.figure(figsize=(14,5))\n",
    "plt.title(\"Plotting Spectogram for Non-Capuchin Bird Call\")\n",
    "plt.imshow(tf.transpose(samp_spectogram)[0])\n",
    "plt.show()\n",
    "gc.collect()"
   ]
  },
  {
   "cell_type": "code",
   "execution_count": 20,
   "id": "6c7de31f-e32c-4972-9645-a08c3808a6e8",
   "metadata": {},
   "outputs": [
    {
     "data": {
      "image/png": "[encoded data removed]",
      "text/plain": [
       "<Figure size 1008x360 with 1 Axes>"
      ]
     },
     "metadata": {
      "needs_background": "light"
     },
     "output_type": "display_data"
    }
   ],
   "source": [
    "samp_file_path , sample_label = non_cap_dataset_1.as_numpy_iterator().next()\n",
    "samp_spectogram,_ = preprocess(samp_file_path,sample_label)\n",
    "\n",
    "plt.figure(figsize=(14,5))\n",
    "plt.title(\"Plotting Spectogram for Non-Capuchin Bird Call\")\n",
    "plt.imshow(tf.transpose(samp_spectogram)[0])\n",
    "plt.show()"
   ]
  },
  {
   "cell_type": "markdown",
   "id": "59487fb3-8d81-4a42-b3cd-16348e91bf1e",
   "metadata": {},
   "source": [
    "There is pattern between the Capuchin Bird call and Other Bird call, there is a pattern."
   ]
  },
  {
   "cell_type": "markdown",
   "id": "98ed5af9-664c-4d60-afda-90ee2625c95f",
   "metadata": {},
   "source": [
    "### Splitting Data in Train and Test Partations"
   ]
  },
  {
   "cell_type": "code",
   "execution_count": 21,
   "id": "fc5f4309-c7e2-4b4a-bdf2-352135bb12b7",
   "metadata": {},
   "outputs": [
    {
     "name": "stdout",
     "output_type": "stream",
     "text": [
      "WARNING:tensorflow:Using a while_loop for converting IO>AudioResample cause there is no registered converter for this op.\n"
     ]
    }
   ],
   "source": [
    "# Preprocessing the Dataset.\n",
    "dataset =  dataset.map(preprocess)\n",
    "# Cache the Dataset\n",
    "dataset  = dataset.cache()\n",
    "# Shuffling and Batching the dataset\n",
    "dataset= dataset.shuffle(10000).batch(config.BATCH_SIZE)\n",
    "dataset = dataset.prefetch(8)"
   ]
  },
  {
   "cell_type": "code",
   "execution_count": 22,
   "id": "6b4427cd-7253-497b-927b-7878d6b418ee",
   "metadata": {},
   "outputs": [
    {
     "data": {
      "text/plain": [
       "3104"
      ]
     },
     "execution_count": 22,
     "metadata": {},
     "output_type": "execute_result"
    }
   ],
   "source": [
    "train_ds = dataset.take(int(len(dataset)*config.TRAIN_SIZE))\n",
    "test_ds = dataset.skip(int(len(dataset)*config.TRAIN_SIZE))\n",
    "gc.collect()"
   ]
  },
  {
   "cell_type": "markdown",
   "id": "dc29d0f6-6e1e-46b1-9d67-6de5f65fdd24",
   "metadata": {},
   "source": [
    "#### Testing on Batch"
   ]
  },
  {
   "cell_type": "code",
   "execution_count": 23,
   "id": "d9c91e13-e7ef-435d-96b7-66e35e5701f2",
   "metadata": {},
   "outputs": [
    {
     "data": {
      "text/plain": [
       "(16, 1491, 257, 1)"
      ]
     },
     "execution_count": 23,
     "metadata": {},
     "output_type": "execute_result"
    }
   ],
   "source": [
    "samples, labels = train_ds.as_numpy_iterator().next()\n",
    "samples.shape"
   ]
  },
  {
   "cell_type": "markdown",
   "id": "aaf9ab57-bd68-4baf-b4e5-0f9f1f88447b",
   "metadata": {},
   "source": [
    "## Building Model"
   ]
  },
  {
   "cell_type": "code",
   "execution_count": 24,
   "id": "04ccc804-74c5-472a-94d3-e3ba797bea19",
   "metadata": {},
   "outputs": [],
   "source": [
    "def get_model():\n",
    "    model = Sequential()\n",
    "    model.add(Conv2D(16, (3,3), activation='relu', input_shape = (1491,257,1)))\n",
    "    model.add(Conv2D(16,(3,3), activation='relu'))\n",
    "    model.add(Flatten())\n",
    "    model.add(Dense(64,activation='relu'))\n",
    "    model.add(Dense(1, activation='sigmoid'))\n",
    "    \n",
    "    model.compile(optimizer = 'adam',loss = tf.keras.losses.BinaryCrossentropy(),\n",
    "             metrics=[tf.keras.metrics.Recall(),tf.keras.metrics.Precision()])\n",
    "    return model"
   ]
  },
  {
   "cell_type": "code",
   "execution_count": 25,
   "id": "ecb042e5-a8cc-47bc-92d0-c4be189568c7",
   "metadata": {},
   "outputs": [
    {
     "name": "stderr",
     "output_type": "stream",
     "text": [
      "2024-04-09 18:41:58.952422: W tensorflow/tsl/framework/cpu_allocator_impl.cc:83] Allocation of 1540960256 exceeds 10% of free system memory.\n",
      "2024-04-09 18:41:59.350583: W tensorflow/tsl/framework/cpu_allocator_impl.cc:83] Allocation of 1540960256 exceeds 10% of free system memory.\n",
      "2024-04-09 18:41:59.546371: W tensorflow/tsl/framework/cpu_allocator_impl.cc:83] Allocation of 1540960256 exceeds 10% of free system memory.\n"
     ]
    },
    {
     "data": {
      "text/plain": [
       "118"
      ]
     },
     "execution_count": 25,
     "metadata": {},
     "output_type": "execute_result"
    }
   ],
   "source": [
    "model = get_model()\n",
    "gc.collect()"
   ]
  },
  {
   "cell_type": "code",
   "execution_count": 26,
   "id": "e4f2cc75-5d95-4e87-b83f-352055720cf6",
   "metadata": {},
   "outputs": [
    {
     "name": "stdout",
     "output_type": "stream",
     "text": [
      "Model: \"sequential\"\n",
      "_________________________________________________________________\n",
      " Layer (type)                Output Shape              Param #   \n",
      "=================================================================\n",
      " conv2d (Conv2D)             (None, 1489, 255, 16)     160       \n",
      "                                                                 \n",
      " conv2d_1 (Conv2D)           (None, 1487, 253, 16)     2320      \n",
      "                                                                 \n",
      " flatten (Flatten)           (None, 6019376)           0         \n",
      "                                                                 \n",
      " dense (Dense)               (None, 64)                385240128 \n",
      "                                                                 \n",
      " dense_1 (Dense)             (None, 1)                 65        \n",
      "                                                                 \n",
      "=================================================================\n",
      "Total params: 385242673 (1.44 GB)\n",
      "Trainable params: 385242673 (1.44 GB)\n",
      "Non-trainable params: 0 (0.00 Byte)\n",
      "_________________________________________________________________\n"
     ]
    }
   ],
   "source": [
    "model.summary()"
   ]
  },
  {
   "cell_type": "markdown",
   "id": "5cf495a1-987b-4e2e-8917-158977c7085e",
   "metadata": {},
   "source": [
    "### Training Model"
   ]
  },
  {
   "cell_type": "code",
   "execution_count": 27,
   "id": "cfcfc78e-2b4d-458c-bced-071220ee4f0d",
   "metadata": {},
   "outputs": [
    {
     "name": "stdout",
     "output_type": "stream",
     "text": [
      "Epoch 1/3\n"
     ]
    },
    {
     "name": "stderr",
     "output_type": "stream",
     "text": [
      "2024-04-09 18:42:00.255565: W tensorflow/tsl/framework/cpu_allocator_impl.cc:83] Allocation of 1540960256 exceeds 10% of free system memory.\n",
      "2024-04-09 18:42:00.415858: W tensorflow/tsl/framework/cpu_allocator_impl.cc:83] Allocation of 1540960256 exceeds 10% of free system memory.\n"
     ]
    },
    {
     "name": "stdout",
     "output_type": "stream",
     "text": [
      "35/35 [==============================] - 172s 5s/step - loss: 1.0760 - recall: 0.8750 - precision: 0.8210 - val_loss: 0.0581 - val_recall: 0.9855 - val_precision: 0.9855\n",
      "Epoch 2/3\n",
      "35/35 [==============================] - 173s 5s/step - loss: 0.1091 - recall: 0.9742 - precision: 0.9934 - val_loss: 0.0140 - val_recall: 1.0000 - val_precision: 1.0000\n",
      "Epoch 3/3\n",
      "35/35 [==============================] - 192s 6s/step - loss: 0.0338 - recall: 0.9808 - precision: 0.9871 - val_loss: 0.0204 - val_recall: 1.0000 - val_precision: 0.9875\n"
     ]
    }
   ],
   "source": [
    "hist  = model.fit(train_ds, epochs=3, validation_data=test_ds)"
   ]
  },
  {
   "cell_type": "markdown",
   "id": "2962cdb7-cf60-4291-a245-ed1b7a1f113d",
   "metadata": {},
   "source": [
    "### Plotting Metrcis"
   ]
  },
  {
   "cell_type": "code",
   "execution_count": 32,
   "id": "0b5bff12-5de7-47b5-b256-db513c9f8833",
   "metadata": {},
   "outputs": [
    {
     "data": {
      "image/png": "[encoded data removed]",
      "text/plain": [
       "<Figure size 432x288 with 1 Axes>"
      ]
     },
     "metadata": {
      "needs_background": "light"
     },
     "output_type": "display_data"
    }
   ],
   "source": [
    "plt.title('Loss')\n",
    "plt.plot(hist.history['loss'])\n",
    "plt.plot(hist.history['val_loss'])\n",
    "plt.legend(['loss','val_loss'])\n",
    "plt.show()"
   ]
  },
  {
   "cell_type": "code",
   "execution_count": 34,
   "id": "c0720090-1e27-49b8-9a73-e128af60113f",
   "metadata": {},
   "outputs": [
    {
     "data": {
      "image/png": "[encoded data removed]",
      "text/plain": [
       "<Figure size 432x288 with 1 Axes>"
      ]
     },
     "metadata": {
      "needs_background": "light"
     },
     "output_type": "display_data"
    }
   ],
   "source": [
    "plt.title('Metrics')\n",
    "plt.plot(hist.history['recall'])\n",
    "plt.plot(hist.history['precision'])\n",
    "plt.plot(hist.history['val_recall'])\n",
    "plt.plot(hist.history['val_precision'])\n",
    "\n",
    "plt.legend(['recall','precision','val_recall','val_precision'])\n",
    "plt.show()"
   ]
  },
  {
   "cell_type": "markdown",
   "id": "64bc11d3-8e1e-40a3-9b91-e338b8cb98b9",
   "metadata": {},
   "source": [
    "# Making Prediction"
   ]
  },
  {
   "cell_type": "code",
   "execution_count": 35,
   "id": "3778d147-49b3-49c7-957d-0d1a87498511",
   "metadata": {},
   "outputs": [],
   "source": [
    "X_test, y_test = test_ds.as_numpy_iterator().next()"
   ]
  },
  {
   "cell_type": "code",
   "execution_count": 36,
   "id": "f1c13764-0fba-4a82-90ea-f078efaaeb03",
   "metadata": {},
   "outputs": [
    {
     "data": {
      "text/plain": [
       "((16, 1491, 257, 1), (16,))"
      ]
     },
     "execution_count": 36,
     "metadata": {},
     "output_type": "execute_result"
    }
   ],
   "source": [
    "X_test.shape, y_test.shape"
   ]
  },
  {
   "cell_type": "code",
   "execution_count": 37,
   "id": "12666c4f-4840-4142-9900-865e74338f1f",
   "metadata": {},
   "outputs": [
    {
     "name": "stdout",
     "output_type": "stream",
     "text": [
      "1/1 [==============================] - 1s 583ms/step\n"
     ]
    }
   ],
   "source": [
    "y_pred = model.predict(X_test)"
   ]
  },
  {
   "cell_type": "code",
   "execution_count": 41,
   "id": "aa8971a6-2a1b-4056-a282-0d80cee5c7bd",
   "metadata": {},
   "outputs": [],
   "source": [
    "y_pred = [1 if pred >0.5 else 0 for pred in y_pred]"
   ]
  },
  {
   "cell_type": "markdown",
   "id": "c3390e0d-20f7-40a9-8a23-410cf24ebff0",
   "metadata": {},
   "source": [
    "#### Checking Accuracy"
   ]
  },
  {
   "cell_type": "code",
   "execution_count": 52,
   "id": "63518457-a9c4-4b90-be38-528bafffaac2",
   "metadata": {},
   "outputs": [
    {
     "name": "stdout",
     "output_type": "stream",
     "text": [
      "Accuracy =  0.9375 \n",
      "Confusion Matrix \n",
      " [[9 1]\n",
      " [0 6]]\n"
     ]
    }
   ],
   "source": [
    "from sklearn.metrics import confusion_matrix, accuracy_score\n",
    "print(\"Accuracy = \",accuracy_score(y_test, y_pred),\"\\nConfusion Matrix \\n\",confusion_matrix(y_test,y_pred))"
   ]
  },
  {
   "cell_type": "markdown",
   "id": "7247c766-877e-45e3-9be2-8550300748f3",
   "metadata": {},
   "source": [
    "### Saving Model Weights"
   ]
  },
  {
   "cell_type": "code",
   "execution_count": 196,
   "id": "26f3e018-17b5-4adf-bb28-884ff684ce1b",
   "metadata": {},
   "outputs": [
    {
     "name": "stdout",
     "output_type": "stream",
     "text": [
      "INFO:tensorflow:Assets written to: ./model/assets\n"
     ]
    },
    {
     "name": "stderr",
     "output_type": "stream",
     "text": [
      "INFO:tensorflow:Assets written to: ./model/assets\n"
     ]
    }
   ],
   "source": [
    "model.save('./model')"
   ]
  },
  {
   "cell_type": "markdown",
   "id": "b5a031de-3f8a-4175-a30c-33e944bd6ce7",
   "metadata": {},
   "source": [
    "## Building Prediction for Forest Recordings"
   ]
  },
  {
   "cell_type": "code",
   "execution_count": 118,
   "id": "ba87d37b-1378-4255-8f9b-5d30ab5c6137",
   "metadata": {},
   "outputs": [],
   "source": [
    "def load_mp3_16k_mono(filename):\n",
    "    \"\"\" Load a WAV file, convert it to a float tensor, resample to 16 kHz single-channel audio. \"\"\"\n",
    "    res = tfio.audio.AudioIOTensor(filename)\n",
    "    # Convert to tensor and combine channels \n",
    "    tensor = res.to_tensor()\n",
    "    tensor = tf.math.reduce_sum(tensor, axis=1) / 2 \n",
    "    # Extract sample rate and cast\n",
    "    sample_rate = res.rate\n",
    "    sample_rate = tf.cast(sample_rate, dtype=tf.int64)\n",
    "    # Resample to 16 kHz\n",
    "    wav = tfio.audio.resample(tensor, rate_in=sample_rate, rate_out=16000)\n",
    "    return wav"
   ]
  },
  {
   "cell_type": "code",
   "execution_count": 139,
   "id": "e35b500b-d83b-4618-b646-622848d407ac",
   "metadata": {},
   "outputs": [
    {
     "data": {
      "text/plain": [
       "5778"
      ]
     },
     "execution_count": 139,
     "metadata": {},
     "output_type": "execute_result"
    }
   ],
   "source": [
    "samp = os.listdir(config.FOREST_DATA)[0]\n",
    "\n",
    "wav = load_mp3_16k_mono(os.path.join(config.FOREST_DATA,samp))\n",
    "audio_slices = tf.keras.utils.timeseries_dataset_from_array(wav, wav, sequence_length=48000, sequence_stride=48000, batch_size=1)\n",
    "gc.collect()"
   ]
  },
  {
   "cell_type": "markdown",
   "id": "f38b361f-9452-491a-aa85-4dc08d7ff338",
   "metadata": {},
   "source": [
    "#### Building Function to convert clips in windows spectograms"
   ]
  },
  {
   "cell_type": "code",
   "execution_count": 140,
   "id": "01bad897-a940-4762-9ef6-f5e020f2c8fc",
   "metadata": {},
   "outputs": [],
   "source": [
    "\n",
    "def preprocess_mp3(sample, index):\n",
    "    sample = sample[0]\n",
    "    zero_padding = tf.zeros([48000] - tf.shape(sample), dtype=tf.float32)\n",
    "    wav = tf.concat([zero_padding, sample],0)\n",
    "    spectrogram = tf.signal.stft(wav, frame_length=320, frame_step=32)\n",
    "    spectrogram = tf.abs(spectrogram)\n",
    "    spectrogram = tf.expand_dims(spectrogram, axis=2)\n",
    "    return spectrogram"
   ]
  },
  {
   "cell_type": "code",
   "execution_count": 141,
   "id": "e603630e-b06e-47c5-a9d3-f78d42692cd0",
   "metadata": {},
   "outputs": [
    {
     "data": {
      "text/plain": [
       "560"
      ]
     },
     "execution_count": 141,
     "metadata": {},
     "output_type": "execute_result"
    }
   ],
   "source": [
    "audio_slices = tf.keras.utils.timeseries_dataset_from_array(wav, wav, sequence_length=48000, sequence_stride=48000, batch_size=1)\n",
    "audio_slices = audio_slices.map(preprocess_mp3)\n",
    "audio_slices = audio_slices.batch(64)\n",
    "gc.collect()"
   ]
  },
  {
   "cell_type": "code",
   "execution_count": 149,
   "id": "7cfc7074-c8c7-4ab7-86ee-e0f35036bd08",
   "metadata": {},
   "outputs": [
    {
     "name": "stdout",
     "output_type": "stream",
     "text": [
      "1/1 [==============================] - 2s 2s/step\n"
     ]
    }
   ],
   "source": [
    "ypred = model.predict(audio_slices)"
   ]
  },
  {
   "cell_type": "code",
   "execution_count": 150,
   "id": "a466e2ba-c85f-4266-94ba-e06966070ede",
   "metadata": {},
   "outputs": [],
   "source": [
    "ypred = [1 if prediction > 0.99 else 0 for prediction in ypred]"
   ]
  },
  {
   "cell_type": "code",
   "execution_count": 151,
   "id": "9e645173-57a9-4dd1-bc25-02ebbbe4befd",
   "metadata": {},
   "outputs": [],
   "source": [
    "# Reducing the consective calls and single calls"
   ]
  },
  {
   "cell_type": "code",
   "execution_count": 152,
   "id": "226139a4-620d-43a6-a579-70e5b04c26db",
   "metadata": {},
   "outputs": [],
   "source": [
    "from itertools import groupby"
   ]
  },
  {
   "cell_type": "code",
   "execution_count": 154,
   "id": "cf6b92bb-5549-4e63-94dc-38a9939c573a",
   "metadata": {},
   "outputs": [],
   "source": [
    "ypred = [key for key, group in groupby(ypred)]\n",
    "calls = tf.math.reduce_sum(ypred).numpy()"
   ]
  },
  {
   "cell_type": "markdown",
   "id": "672c7662-987b-42bf-bc33-bad32cf76cfb",
   "metadata": {},
   "source": [
    "# Predicting on foreset Recordings folder"
   ]
  },
  {
   "cell_type": "code",
   "execution_count": 156,
   "id": "6d9045d8-27c0-43fc-87d5-d646d6bda076",
   "metadata": {},
   "outputs": [],
   "source": [
    "from tqdm import tqdm"
   ]
  },
  {
   "cell_type": "code",
   "execution_count": 164,
   "id": "dd9360dc-8f1f-4ece-b24f-a59c9f5a48d0",
   "metadata": {},
   "outputs": [
    {
     "name": "stderr",
     "output_type": "stream",
     "text": [
      "100%|██████████████████████████████████████████████████████████████████████████████████| 100/100 [03:33<00:00,  2.14s/it]\n"
     ]
    }
   ],
   "source": [
    "result = {}\n",
    "for file in tqdm(os.listdir(config.FOREST_DATA)):\n",
    "    FILE_PATH = os.path.join(config.FOREST_DATA,file)\n",
    "    wav = load_mp3_16k_mono(FILE_PATH)\n",
    "    audio_slices = tf.keras.utils.timeseries_dataset_from_array(\n",
    "        wav,\n",
    "        wav,\n",
    "        sequence_length=48000,\n",
    "        sequence_stride=48000,\n",
    "    batch_size=1\n",
    "    ).map(preprocess_mp3).batch(64)\n",
    "    y_hat = model.predict(audio_slices,verbose=0)\n",
    "    result[file]=y_hat"
   ]
  },
  {
   "cell_type": "code",
   "execution_count": 168,
   "id": "763308e2-6ecc-4ce3-866c-fa364c12f6b4",
   "metadata": {},
   "outputs": [],
   "source": [
    "# Converting to classes\n",
    "class_preds = {}\n",
    "for file,logits in result.items():\n",
    "     class_preds[file] = [1 if prediction > 0.99 else 0 for prediction in logits]\n"
   ]
  },
  {
   "cell_type": "code",
   "execution_count": 187,
   "id": "4cd03795-370b-495f-b882-e99e3aee193a",
   "metadata": {},
   "outputs": [],
   "source": [
    "# Counting the total number of classes from the file\n",
    "final_calls={}\n",
    "for file,classes in class_preds.items():\n",
    "    classes = [key for key, group in groupby(classes)]\n",
    "    final_calls[file] = [tf.math.reduce_sum(classes).numpy()]"
   ]
  },
  {
   "cell_type": "code",
   "execution_count": 188,
   "id": "686e39d7-10cc-4e1d-8ee6-5905c1a1b8fd",
   "metadata": {},
   "outputs": [
    {
     "data": {
      "text/plain": [
       "[14]"
      ]
     },
     "execution_count": 188,
     "metadata": {},
     "output_type": "execute_result"
    }
   ],
   "source": [
    "final_calls['recording_98.mp3']"
   ]
  },
  {
   "cell_type": "markdown",
   "id": "29f314d9-d2d0-4d7d-b0c9-ea7696bf33a1",
   "metadata": {},
   "source": [
    "### Saving"
   ]
  },
  {
   "cell_type": "code",
   "execution_count": 190,
   "id": "4ab1a14c-b520-4d13-949d-552f49156038",
   "metadata": {},
   "outputs": [
    {
     "data": {
      "text/html": [
       "<div>\n",
       "<style scoped>\n",
       "    .dataframe tbody tr th:only-of-type {\n",
       "        vertical-align: middle;\n",
       "    }\n",
       "\n",
       "    .dataframe tbody tr th {\n",
       "        vertical-align: top;\n",
       "    }\n",
       "\n",
       "    .dataframe thead th {\n",
       "        text-align: right;\n",
       "    }\n",
       "</style>\n",
       "<table border=\"1\" class=\"dataframe\">\n",
       "  <thead>\n",
       "    <tr style=\"text-align: right;\">\n",
       "      <th></th>\n",
       "      <th>recording_44.mp3</th>\n",
       "      <th>recording_84.mp3</th>\n",
       "      <th>recording_56.mp3</th>\n",
       "      <th>recording_60.mp3</th>\n",
       "      <th>recording_42.mp3</th>\n",
       "      <th>recording_22.mp3</th>\n",
       "      <th>recording_69.mp3</th>\n",
       "      <th>recording_95.mp3</th>\n",
       "      <th>recording_77.mp3</th>\n",
       "      <th>recording_71.mp3</th>\n",
       "      <th>...</th>\n",
       "      <th>recording_98.mp3</th>\n",
       "      <th>recording_90.mp3</th>\n",
       "      <th>recording_96.mp3</th>\n",
       "      <th>recording_30.mp3</th>\n",
       "      <th>recording_83.mp3</th>\n",
       "      <th>recording_48.mp3</th>\n",
       "      <th>recording_65.mp3</th>\n",
       "      <th>recording_47.mp3</th>\n",
       "      <th>recording_99.mp3</th>\n",
       "      <th>recording_24.mp3</th>\n",
       "    </tr>\n",
       "  </thead>\n",
       "  <tbody>\n",
       "    <tr>\n",
       "      <th>0</th>\n",
       "      <td>1</td>\n",
       "      <td>1</td>\n",
       "      <td>1</td>\n",
       "      <td>5</td>\n",
       "      <td>0</td>\n",
       "      <td>2</td>\n",
       "      <td>1</td>\n",
       "      <td>5</td>\n",
       "      <td>2</td>\n",
       "      <td>8</td>\n",
       "      <td>...</td>\n",
       "      <td>14</td>\n",
       "      <td>0</td>\n",
       "      <td>1</td>\n",
       "      <td>3</td>\n",
       "      <td>0</td>\n",
       "      <td>4</td>\n",
       "      <td>5</td>\n",
       "      <td>1</td>\n",
       "      <td>5</td>\n",
       "      <td>0</td>\n",
       "    </tr>\n",
       "  </tbody>\n",
       "</table>\n",
       "<p>1 rows × 100 columns</p>\n",
       "</div>"
      ],
      "text/plain": [
       "   recording_44.mp3  recording_84.mp3  recording_56.mp3  recording_60.mp3  \\\n",
       "0                 1                 1                 1                 5   \n",
       "\n",
       "   recording_42.mp3  recording_22.mp3  recording_69.mp3  recording_95.mp3  \\\n",
       "0                 0                 2                 1                 5   \n",
       "\n",
       "   recording_77.mp3  recording_71.mp3  ...  recording_98.mp3  \\\n",
       "0                 2                 8  ...                14   \n",
       "\n",
       "   recording_90.mp3  recording_96.mp3  recording_30.mp3  recording_83.mp3  \\\n",
       "0                 0                 1                 3                 0   \n",
       "\n",
       "   recording_48.mp3  recording_65.mp3  recording_47.mp3  recording_99.mp3  \\\n",
       "0                 4                 5                 1                 5   \n",
       "\n",
       "   recording_24.mp3  \n",
       "0                 0  \n",
       "\n",
       "[1 rows x 100 columns]"
      ]
     },
     "execution_count": 190,
     "metadata": {},
     "output_type": "execute_result"
    }
   ],
   "source": [
    "pd.DataFrame(final_calls,)"
   ]
  },
  {
   "cell_type": "code",
   "execution_count": null,
   "id": "6a52744e-c1b1-47c9-9298-793529844614",
   "metadata": {},
   "outputs": [],
   "source": []
  }
 ],
 "metadata": {
  "kernelspec": {
   "display_name": "Python 3 (ipykernel)",
   "language": "python",
   "name": "python3"
  },
  "language_info": {
   "codemirror_mode": {
    "name": "ipython",
    "version": 3
   },
   "file_extension": ".py",
   "mimetype": "text/x-python",
   "name": "python",
   "nbconvert_exporter": "python",
   "pygments_lexer": "ipython3",
   "version": "3.10.12"
  }
 },
 "nbformat": 4,
 "nbformat_minor": 5
}
